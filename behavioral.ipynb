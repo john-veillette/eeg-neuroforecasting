{
 "cells": [
  {
   "cell_type": "code",
   "execution_count": 1,
   "id": "c602aeac",
   "metadata": {},
   "outputs": [],
   "source": [
    "from scipy.stats import fisher_exact\n",
    "import numpy as np\n",
    "import pandas as pd\n",
    "import os\n",
    "\n",
    "from sklearn.model_selection import cross_val_score, StratifiedGroupKFold\n",
    "from sklearn.preprocessing import LabelEncoder\n",
    "from util.decoding.gee import GEEEstimator\n",
    "\n",
    "from bids import BIDSLayout"
   ]
  },
  {
   "cell_type": "code",
   "execution_count": 2,
   "id": "3254fccb",
   "metadata": {},
   "outputs": [],
   "source": [
    "BIDS_ROOT = 'bids'\n",
    "DERIV_ROOT = os.path.join(BIDS_ROOT, 'derivatives')"
   ]
  },
  {
   "cell_type": "code",
   "execution_count": 3,
   "id": "25c4da4b",
   "metadata": {},
   "outputs": [
    {
     "name": "stderr",
     "output_type": "stream",
     "text": [
      "/home/johnv/anaconda3/envs/neuroforecasting/lib/python3.9/site-packages/bids/layout/models.py:148: FutureWarning: The 'extension' entity currently excludes the leading dot ('.'). As of version 0.14.0, it will include the leading dot. To suppress this warning and include the leading dot, use `bids.config.set_option('extension_initial_dot', True)`.\n",
      "  warnings.warn(\"The 'extension' entity currently excludes the leading dot ('.'). \"\n"
     ]
    },
    {
     "data": {
      "text/html": [
       "<div>\n",
       "<style scoped>\n",
       "    .dataframe tbody tr th:only-of-type {\n",
       "        vertical-align: middle;\n",
       "    }\n",
       "\n",
       "    .dataframe tbody tr th {\n",
       "        vertical-align: top;\n",
       "    }\n",
       "\n",
       "    .dataframe thead th {\n",
       "        text-align: right;\n",
       "    }\n",
       "</style>\n",
       "<table border=\"1\" class=\"dataframe\">\n",
       "  <thead>\n",
       "    <tr style=\"text-align: right;\">\n",
       "      <th></th>\n",
       "      <th>onset</th>\n",
       "      <th>duration</th>\n",
       "      <th>sample</th>\n",
       "      <th>funded</th>\n",
       "      <th>choice</th>\n",
       "      <th>category</th>\n",
       "      <th>project_id</th>\n",
       "      <th>trial_type</th>\n",
       "      <th>subject</th>\n",
       "    </tr>\n",
       "  </thead>\n",
       "  <tbody>\n",
       "    <tr>\n",
       "      <th>0</th>\n",
       "      <td>28.283</td>\n",
       "      <td>0</td>\n",
       "      <td>28283</td>\n",
       "      <td>1</td>\n",
       "      <td>0.0</td>\n",
       "      <td>place</td>\n",
       "      <td>PR81</td>\n",
       "      <td>image</td>\n",
       "      <td>0</td>\n",
       "    </tr>\n",
       "    <tr>\n",
       "      <th>1</th>\n",
       "      <td>46.266</td>\n",
       "      <td>0</td>\n",
       "      <td>46266</td>\n",
       "      <td>0</td>\n",
       "      <td>0.0</td>\n",
       "      <td>place</td>\n",
       "      <td>PR59</td>\n",
       "      <td>image</td>\n",
       "      <td>0</td>\n",
       "    </tr>\n",
       "    <tr>\n",
       "      <th>2</th>\n",
       "      <td>64.249</td>\n",
       "      <td>0</td>\n",
       "      <td>64249</td>\n",
       "      <td>1</td>\n",
       "      <td>0.0</td>\n",
       "      <td>face</td>\n",
       "      <td>PR11</td>\n",
       "      <td>image</td>\n",
       "      <td>0</td>\n",
       "    </tr>\n",
       "    <tr>\n",
       "      <th>4</th>\n",
       "      <td>98.266</td>\n",
       "      <td>0</td>\n",
       "      <td>98266</td>\n",
       "      <td>1</td>\n",
       "      <td>0.0</td>\n",
       "      <td>place</td>\n",
       "      <td>PR63</td>\n",
       "      <td>image</td>\n",
       "      <td>0</td>\n",
       "    </tr>\n",
       "    <tr>\n",
       "      <th>5</th>\n",
       "      <td>116.266</td>\n",
       "      <td>0</td>\n",
       "      <td>116266</td>\n",
       "      <td>0</td>\n",
       "      <td>0.0</td>\n",
       "      <td>place</td>\n",
       "      <td>PR53</td>\n",
       "      <td>image</td>\n",
       "      <td>0</td>\n",
       "    </tr>\n",
       "  </tbody>\n",
       "</table>\n",
       "</div>"
      ],
      "text/plain": [
       "     onset  duration  sample  funded  choice category project_id trial_type  \\\n",
       "0   28.283         0   28283       1     0.0    place       PR81      image   \n",
       "1   46.266         0   46266       0     0.0    place       PR59      image   \n",
       "2   64.249         0   64249       1     0.0     face       PR11      image   \n",
       "4   98.266         0   98266       1     0.0    place       PR63      image   \n",
       "5  116.266         0  116266       0     0.0    place       PR53      image   \n",
       "\n",
       "   subject  \n",
       "0        0  \n",
       "1        0  \n",
       "2        0  \n",
       "4        0  \n",
       "5        0  "
      ]
     },
     "execution_count": 3,
     "metadata": {},
     "output_type": "execute_result"
    }
   ],
   "source": [
    "layout = BIDSLayout(BIDS_ROOT, derivatives = True)\n",
    "events_fpaths = layout.get(\n",
    "    scope = 'raw', \n",
    "    suffix = 'events', \n",
    "    extension = 'tsv', \n",
    "    return_type = 'filename')\n",
    "events_dfs = [pd.read_csv(f, sep = '\\t') for f in events_fpaths]\n",
    "for i, df in enumerate(events_dfs):\n",
    "    df['subject'] = i\n",
    "events = pd.concat(events_dfs)\n",
    "events = events.dropna()\n",
    "events.head()"
   ]
  },
  {
   "cell_type": "code",
   "execution_count": 4,
   "id": "995d5e14",
   "metadata": {},
   "outputs": [],
   "source": [
    "funded = pd.Categorical(events.funded).to_numpy()\n",
    "indiv_choice = pd.Categorical(events.choice).to_numpy()\n",
    "stims = LabelEncoder().fit_transform(events.project_id)\n",
    "subs = LabelEncoder().fit_transform(events.subject)"
   ]
  },
  {
   "cell_type": "code",
   "execution_count": 5,
   "id": "a62180ed",
   "metadata": {},
   "outputs": [],
   "source": [
    "def ttest_1samp_kx2cv(scores, chance = 0.5):\n",
    "    '''\n",
    "    Input: list of k (2, n_tests) arrays of scores obtained from\n",
    "            a series of k different 2-fold cross validation splits\n",
    "            \n",
    "    Output: t-values, p-values, and standard errors from \n",
    "            a kx2 t-test for classification metrics with null\n",
    "            hypothesis that metric == 0.5. These are all\n",
    "            (n_tests,) arrays. Test described in [1].\n",
    "            \n",
    "    References\n",
    "    ----------\n",
    "    [1] Dietterich TG (1998) Approximate Statistical Tests for \n",
    "        Comparing Supervised Classification Learning Algorithms.\n",
    "        Neural Comput 10:1895–1923.\n",
    "    '''\n",
    "    from scipy.stats import t as t_dist\n",
    "    above_chance = [(scrs - chance) for scrs in scores]\n",
    "    if above_chance[0].ndim == 1:\n",
    "        above_chance = [ac[:, np.newaxis] for ac in above_chance]\n",
    "    # estimate standard error from all the splits\n",
    "    s2 = [np.square(scrs - scrs.mean(0)).sum(0) for scrs in above_chance]\n",
    "    s2 = np.stack(s2, axis = 0)\n",
    "    # but only use first split for observed value since scores on CV splits\n",
    "    p1 = above_chance[0][1, :] # are not truly independent of one another.\n",
    "    se = np.sqrt(s2.mean(0)) # see [1]\n",
    "    # after that, it's just a normal t-test\n",
    "    t = p1 / se\n",
    "    p = t_dist.sf(t, df = s2.shape[0]) # one-sided p-value \n",
    "    if t.shape == (1,):\n",
    "        t, p, p1, se = t[0], p[0], p1[0], se[0]\n",
    "    return t, p, (p1 + chance), se"
   ]
  },
  {
   "cell_type": "markdown",
   "id": "370de36d",
   "metadata": {},
   "source": [
    "## Cross-Validated Classification Score\n",
    "\n",
    "We test whether we can predict whether a stimulus will be funded (aggregate) from individual choice behavior on a trial-by-trial basis using the same cross-validation scheme as we do for neural decoding. Note that a negative result doesn't mean these two things aren't related; they obviously are related given sufficient power, since individual and aggregate choice become practically the same thing when _n_ increases to become a substantial fraction of the population. However, if we can't get robustly above-chance cross-validated AUC given perfect information about individual choice behavior, we can assume that the incomplete individual choice information our aggregate choice decoder has access to does not explain its above-chance decoding accuracy."
   ]
  },
  {
   "cell_type": "code",
   "execution_count": 6,
   "id": "5ae931d2",
   "metadata": {},
   "outputs": [
    {
     "name": "stdout",
     "output_type": "stream",
     "text": [
      "ROC-AUC is 0.52 +/- 0.06 ----> t(10) = 0.52, p = 0.31\n"
     ]
    }
   ],
   "source": [
    "# construct classifier\n",
    "logistic_reg = GEEEstimator(family = 'binomial', cov_type = 'naive')\n",
    "\n",
    "# cross-validate over stimuli\n",
    "cv_methds = [StratifiedGroupKFold(2, shuffle = True, random_state = i) for i in range(10)]\n",
    "fit_params = dict(groups = subs, maxiter = 500, params_niter = 25)\n",
    "scores = [\n",
    "    cross_val_score(\n",
    "        logistic_reg,\n",
    "        indiv_choice, funded,\n",
    "        groups = stims,\n",
    "        fit_params = fit_params,\n",
    "        scoring = 'roc_auc',\n",
    "        cv = cv) for cv in cv_methds\n",
    "]\n",
    "\n",
    "# test against null hpyothesis that AUC == 0.5\n",
    "t, p, m, se = ttest_1samp_kx2cv(scores)\n",
    "print('ROC-AUC is {:.2f} +/- {:.2f} ----> t({:d}) = {:.2f}, p = {:.2f}'.format(\n",
    "    m, 1.96*se, len(scores), t, p\n",
    "    )\n",
    ")"
   ]
  },
  {
   "cell_type": "markdown",
   "id": "a3b0cee1",
   "metadata": {},
   "source": [
    "## In-Sample Regression Analysis\n",
    "\n",
    "We can also do a more traditional regression analysis (without cross-validation), since the logistic classifier we use for decoding is just a run-of-the-mill Generalized Linear Model at the end of the day."
   ]
  },
  {
   "cell_type": "code",
   "execution_count": 7,
   "id": "dba010b3",
   "metadata": {
    "scrolled": true
   },
   "outputs": [
    {
     "name": "stdout",
     "output_type": "stream",
     "text": [
      "                               GEE Regression Results                              \n",
      "===================================================================================\n",
      "Dep. Variable:                           y   No. Observations:                 1605\n",
      "Model:                                 GEE   No. clusters:                       18\n",
      "Method:                        Generalized   Min. cluster size:                  85\n",
      "                      Estimating Equations   Max. cluster size:                  91\n",
      "Family:                           Binomial   Mean cluster size:                89.2\n",
      "Dependence structure:         Exchangeable   Num. iterations:                     6\n",
      "Date:                     Tue, 07 Jun 2022   Scale:                           1.000\n",
      "Covariance type:                     naive   Time:                         10:22:38\n",
      "==============================================================================\n",
      "                 coef    std err          z      P>|z|      [0.025      0.975]\n",
      "------------------------------------------------------------------------------\n",
      "const         -0.0025      0.018     -0.140      0.889      -0.038       0.033\n",
      "x1             0.1174      0.062      1.887      0.059      -0.005       0.239\n",
      "==============================================================================\n",
      "Skew:                         -0.0235   Kurtosis:                      -1.9969\n",
      "Centered skew:                -0.0235   Centered kurtosis:             -1.9965\n",
      "==============================================================================\n"
     ]
    }
   ],
   "source": [
    "logistic_reg.fit(\n",
    "    indiv_choice, funded, \n",
    "    **fit_params\n",
    ")\n",
    "print(logistic_reg.summary())"
   ]
  },
  {
   "cell_type": "code",
   "execution_count": null,
   "id": "5062b2b8",
   "metadata": {},
   "outputs": [],
   "source": []
  }
 ],
 "metadata": {
  "kernelspec": {
   "display_name": "Python 3 (ipykernel)",
   "language": "python",
   "name": "python3"
  },
  "language_info": {
   "codemirror_mode": {
    "name": "ipython",
    "version": 3
   },
   "file_extension": ".py",
   "mimetype": "text/x-python",
   "name": "python",
   "nbconvert_exporter": "python",
   "pygments_lexer": "ipython3",
   "version": "3.9.7"
  }
 },
 "nbformat": 4,
 "nbformat_minor": 5
}
